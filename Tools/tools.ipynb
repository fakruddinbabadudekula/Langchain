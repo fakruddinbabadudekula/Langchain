{
 "cells": [
  {
   "cell_type": "code",
   "execution_count": 1,
   "id": "6c0d5132",
   "metadata": {},
   "outputs": [
    {
     "name": "stdout",
     "output_type": "stream",
     "text": [
      "hello\n"
     ]
    }
   ],
   "source": [
    "print(\"hello\")"
   ]
  },
  {
   "cell_type": "code",
   "execution_count": 4,
   "id": "fadec868",
   "metadata": {},
   "outputs": [
    {
     "name": "stdout",
     "output_type": "stream",
     "text": [
      "Collecting ddgs\n",
      "  Downloading ddgs-9.5.5-py3-none-any.whl.metadata (18 kB)\n",
      "Requirement already satisfied: click>=8.1.8 in c:\\users\\admin\\desktop\\mydesktop\\langchain\\myvenv\\lib\\site-packages (from ddgs) (8.2.1)\n",
      "Requirement already satisfied: primp>=0.15.0 in c:\\users\\admin\\desktop\\mydesktop\\langchain\\myvenv\\lib\\site-packages (from ddgs) (0.15.0)\n",
      "Requirement already satisfied: lxml>=6.0.0 in c:\\users\\admin\\desktop\\mydesktop\\langchain\\myvenv\\lib\\site-packages (from ddgs) (6.0.1)\n",
      "Requirement already satisfied: colorama in c:\\users\\admin\\desktop\\mydesktop\\langchain\\myvenv\\lib\\site-packages (from click>=8.1.8->ddgs) (0.4.6)\n",
      "Downloading ddgs-9.5.5-py3-none-any.whl (37 kB)\n",
      "Installing collected packages: ddgs\n",
      "Successfully installed ddgs-9.5.5\n"
     ]
    }
   ],
   "source": [
    "!pip install -U ddgs"
   ]
  },
  {
   "cell_type": "code",
   "execution_count": 5,
   "id": "9d78b677",
   "metadata": {},
   "outputs": [
    {
     "name": "stdout",
     "output_type": "stream",
     "text": [
      "3 days ago - The highly anticipated anime film 'Demon Slayer: Kimetsu no Yaiba – The Movie: Infinity Castle' breaks records with a remarkable 13 crores on its first day in India. Directed by Haruo Sotozaki, the film saw packed theatres and immense fan enthusiasm, showcasing its dominance in the non-Hollywood ... Demon Slayer : Infinity Castle collects ₹ 5.28 Cr on Day 2 in India , taking its two-day total to ₹ 18.28 Cr. Get full box office details, occupancy rates, and trends. Interestingly, with a collection of Rs 0.75cr, Demon Slayer Infinity Castle has earned over 5 times less than the first Monday collection of the much talked about animated movie Mahavatar Narsimha which had minted Rs 4cr. Domestically, Demon Slayer Infinity Castle has earned a solid $70 million overall and made over $132 million globally in its opening weekend, which includes the movie’s release in India , Australia, the Middle East, Latin America, and most countries in Europe. Demon Slayer India Box Office. Day. India net collection .With Mirai rising in India , Demon Slayer winning anime fans, and The Conjuring staying strong, the clash remains tight. Sunday’s numbers will decide which film ends the weekend on top.\n"
     ]
    }
   ],
   "source": [
    "from langchain_community.tools import DuckDuckGoSearchRun\n",
    "search_tool=DuckDuckGoSearchRun()\n",
    "result=search_tool.invoke(\"what is the current collection of demonslayer in india\")\n",
    "print(result)"
   ]
  },
  {
   "cell_type": "code",
   "execution_count": null,
   "id": "d6445a53",
   "metadata": {},
   "outputs": [],
   "source": [
    "!pip "
   ]
  },
  {
   "cell_type": "code",
   "execution_count": 12,
   "id": "94f896bb",
   "metadata": {},
   "outputs": [
    {
     "name": "stdout",
     "output_type": "stream",
     "text": [
      "Executing command:\n",
      " whoami\n",
      "desktop-c5kmnk2\\admin\n",
      "\n"
     ]
    },
    {
     "name": "stderr",
     "output_type": "stream",
     "text": [
      "c:\\Users\\Admin\\Desktop\\MyDesktop\\Langchain\\myvenv\\Lib\\site-packages\\langchain_community\\tools\\shell\\tool.py:33: UserWarning: The shell tool has no safeguards by default. Use at your own risk.\n",
      "  warnings.warn(\n"
     ]
    }
   ],
   "source": [
    "from langchain_community.tools import ShellTool\n",
    "# To run shelltoll we need to install langchain_experimental\n",
    "shell_tool=ShellTool()\n",
    "result=shell_tool.invoke(\"whoami\")\n",
    "print(result)"
   ]
  },
  {
   "cell_type": "code",
   "execution_count": 13,
   "id": "34302313",
   "metadata": {},
   "outputs": [
    {
     "data": {
      "text/plain": [
       "13"
      ]
     },
     "execution_count": 13,
     "metadata": {},
     "output_type": "execute_result"
    }
   ],
   "source": [
    "# Creating own TOOL\n",
    "\n",
    "from langchain_community.tools import tool\n",
    "\n",
    "\n",
    "# Method one using decorator\n",
    "@tool\n",
    "def add(a:int,b:int)->int:\n",
    "    \"\"\"Addition of two numbers a and b\"\"\"\n",
    "    return a+b\n",
    "\n",
    "\n",
    "add.invoke({'a':3,'b':10})\n"
   ]
  },
  {
   "cell_type": "code",
   "execution_count": 16,
   "id": "55414075",
   "metadata": {},
   "outputs": [
    {
     "data": {
      "text/plain": [
       "13"
      ]
     },
     "execution_count": 16,
     "metadata": {},
     "output_type": "execute_result"
    }
   ],
   "source": [
    "# Method to Using StructuredTool and Pydantic\n",
    "\n",
    "from langchain.tools import StructuredTool\n",
    "from pydantic import BaseModel,Field\n",
    "\n",
    "class AddArgSchema(BaseModel):\n",
    "    a:int=Field(description=\"First value to perform addition operation.\")\n",
    "    b:int=Field(description=\"Second value to perform addition operation\")\n",
    "\n",
    "def add(a,b)->int:\n",
    "    return a+b\n",
    "\n",
    "add_tool=StructuredTool.from_function(\n",
    "    description=\"Additoin of two numbers\",\n",
    "    func=add,\n",
    "    args_schema=AddArgSchema\n",
    ")\n",
    "\n",
    "add_tool.invoke({'a':3,'b':10})"
   ]
  },
  {
   "cell_type": "code",
   "execution_count": null,
   "id": "1f4f7a28",
   "metadata": {},
   "outputs": [],
   "source": []
  }
 ],
 "metadata": {
  "kernelspec": {
   "display_name": "myvenv",
   "language": "python",
   "name": "python3"
  },
  "language_info": {
   "codemirror_mode": {
    "name": "ipython",
    "version": 3
   },
   "file_extension": ".py",
   "mimetype": "text/x-python",
   "name": "python",
   "nbconvert_exporter": "python",
   "pygments_lexer": "ipython3",
   "version": "3.13.5"
  }
 },
 "nbformat": 4,
 "nbformat_minor": 5
}
