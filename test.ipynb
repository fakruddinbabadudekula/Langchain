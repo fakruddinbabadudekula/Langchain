{
 "cells": [
  {
   "cell_type": "code",
   "execution_count": 1,
   "id": "31437f96",
   "metadata": {},
   "outputs": [],
   "source": [
    "template=\"Hello my name is {name}\""
   ]
  },
  {
   "cell_type": "code",
   "execution_count": null,
   "id": "a7b7e41d",
   "metadata": {},
   "outputs": [],
   "source": [
    "inputs="
   ]
  },
  {
   "cell_type": "code",
   "execution_count": 3,
   "id": "0db53077",
   "metadata": {},
   "outputs": [
    {
     "data": {
      "text/plain": [
       "'Hello my name is Baba fakruddin'"
      ]
     },
     "execution_count": 3,
     "metadata": {},
     "output_type": "execute_result"
    }
   ],
   "source": [
    "template.format(name=\"Baba fakruddin\")"
   ]
  },
  {
   "cell_type": "code",
   "execution_count": null,
   "id": "68b56b05",
   "metadata": {},
   "outputs": [],
   "source": []
  }
 ],
 "metadata": {
  "kernelspec": {
   "display_name": "myvenv",
   "language": "python",
   "name": "python3"
  },
  "language_info": {
   "codemirror_mode": {
    "name": "ipython",
    "version": 3
   },
   "file_extension": ".py",
   "mimetype": "text/x-python",
   "name": "python",
   "nbconvert_exporter": "python",
   "pygments_lexer": "ipython3",
   "version": "3.13.5"
  }
 },
 "nbformat": 4,
 "nbformat_minor": 5
}
