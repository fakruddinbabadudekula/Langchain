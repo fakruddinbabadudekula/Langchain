{
 "cells": [
  {
   "cell_type": "markdown",
   "id": "ff09d1e7",
   "metadata": {},
   "source": [
    "Persistence storing the messages in RAM where it stores the messages upto RAM holds the program"
   ]
  },
  {
   "cell_type": "code",
   "execution_count": 2,
   "id": "abff276f",
   "metadata": {},
   "outputs": [],
   "source": [
    "# Short Term Memory using InSaveMemory\n",
    "\n",
    "from langgraph.checkpoint.memory import InMemorySaver\n",
    "from langgraph.graph import StateGraph,END,START,add_messages\n",
    "from typing import TypedDict,Annotated,List\n",
    "from pydantic import BaseModel\n",
    "from langchain_core.messages import BaseMessage,HumanMessage\n",
    "import time"
   ]
  },
  {
   "cell_type": "code",
   "execution_count": 3,
   "id": "abda0294",
   "metadata": {},
   "outputs": [
    {
     "name": "stderr",
     "output_type": "stream",
     "text": [
      "c:\\Users\\Admin\\Desktop\\MyDesktop\\Langchain\\myvenv\\Lib\\site-packages\\tqdm\\auto.py:21: TqdmWarning: IProgress not found. Please update jupyter and ipywidgets. See https://ipywidgets.readthedocs.io/en/stable/user_install.html\n",
      "  from .autonotebook import tqdm as notebook_tqdm\n"
     ]
    }
   ],
   "source": [
    "from langchain_google_genai import ChatGoogleGenerativeAI\n",
    "from dotenv import load_dotenv\n",
    "load_dotenv()\n",
    "# 2. Initialize Gemini 2.5 Pro\n",
    "llm = ChatGoogleGenerativeAI(\n",
    "    model=\"gemini-2.5-pro\",\n",
    "    temperature=0.7,\n",
    ")"
   ]
  },
  {
   "cell_type": "code",
   "execution_count": 3,
   "id": "e06c6441",
   "metadata": {},
   "outputs": [
    {
     "data": {
      "text/plain": [
       "AIMessage(content=\"Hello! I'm doing great, thank you for asking.\\n\\nI'm ready to help with any questions or tasks you have. How are you today?\", additional_kwargs={}, response_metadata={'prompt_feedback': {'block_reason': 0, 'safety_ratings': []}, 'finish_reason': 'STOP', 'safety_ratings': []}, id='run--a760985b-d1ca-41d4-80fd-05e30ec39b34-0', usage_metadata={'input_tokens': 6, 'output_tokens': 33, 'total_tokens': 1122, 'input_token_details': {'cache_read': 0}})"
      ]
     },
     "execution_count": 3,
     "metadata": {},
     "output_type": "execute_result"
    }
   ],
   "source": [
    "llm.invoke(\"HI how are you?\")"
   ]
  },
  {
   "cell_type": "code",
   "execution_count": 4,
   "id": "7bb0e5ff",
   "metadata": {},
   "outputs": [],
   "source": [
    "class State(TypedDict):\n",
    "    messages:Annotated[List[BaseMessage],add_messages]"
   ]
  },
  {
   "cell_type": "code",
   "execution_count": 5,
   "id": "c970953c",
   "metadata": {},
   "outputs": [],
   "source": [
    "def llm_node(state:State):\n",
    "    messages=state['messages']\n",
    "    response=llm.invoke(messages)\n",
    "    return{\n",
    "        'messages':response\n",
    "    }"
   ]
  },
  {
   "cell_type": "code",
   "execution_count": 6,
   "id": "8d7cbc36",
   "metadata": {},
   "outputs": [],
   "source": [
    "memory=InMemorySaver()"
   ]
  },
  {
   "cell_type": "code",
   "execution_count": null,
   "id": "b8004540",
   "metadata": {},
   "outputs": [],
   "source": [
    "graph=StateGraph(state_schema=State)\n",
    "\n",
    "graph.add_node('llm_node',llm_node)\n",
    "\n",
    "graph.add_edge(START,'llm_node')\n",
    "graph.add_edge('llm_node',END)\n",
    "\n",
    "chatbot=graph.compile(checkpointer=memory)\n",
    "\n"
   ]
  },
  {
   "cell_type": "code",
   "execution_count": 8,
   "id": "b5f2b4b4",
   "metadata": {},
   "outputs": [],
   "source": [
    "config={\"configurable\": {\"thread_id\": \"1\"}}"
   ]
  },
  {
   "cell_type": "code",
   "execution_count": 9,
   "id": "52f590aa",
   "metadata": {},
   "outputs": [
    {
     "name": "stdout",
     "output_type": "stream",
     "text": [
      "User:Hi my name is baba\n",
      "AI:Hello Baba! It's nice to meet you.\n",
      "\n",
      "How can I help you today?\n",
      "User:can you tell me my name\n",
      "AI:Yes, you told me your name is Baba.\n",
      "User:add 100 +20\n",
      "AI:100 + 20 = 120\n",
      "User:and then add 40 to the result\n",
      "AI:Of course.\n",
      "\n",
      "120 + 40 = 160.\n",
      "User:exist\n"
     ]
    }
   ],
   "source": [
    "while(True):\n",
    "    prompt=input()\n",
    "    print(f\"User:{prompt}\")\n",
    "    if prompt.strip().lower() in ['exit','bye','break']:\n",
    "        break\n",
    "    initial_state={\n",
    "        'messages':[HumanMessage(content=prompt)]\n",
    "    }\n",
    "    response=chatbot.invoke(initial_state,config=config)\n",
    "    print(f\"AI:{response['messages'][-1].content}\")"
   ]
  },
  {
   "cell_type": "code",
   "execution_count": 12,
   "id": "2c80420b",
   "metadata": {},
   "outputs": [],
   "source": [
    "# Fault Tolerarence\n",
    "\n",
    "# Just put the None in input and pass the same thread id to continue where it stopped"
   ]
  },
  {
   "cell_type": "code",
   "execution_count": 3,
   "id": "487b4330",
   "metadata": {},
   "outputs": [],
   "source": [
    "class State(TypedDict):\n",
    "    input: str\n",
    "    step1: str\n",
    "    step2: str"
   ]
  },
  {
   "cell_type": "code",
   "execution_count": 4,
   "id": "564365e7",
   "metadata": {},
   "outputs": [],
   "source": [
    "# 2. Define steps\n",
    "def step_1(state: State) -> State:\n",
    "    print(\"✅ Step 1 executed\")\n",
    "    return {\"step1\": \"done\", \"input\": state[\"input\"]}\n",
    "\n",
    "def step_2(state: State) -> State:\n",
    "    print(\"⏳ Step 2 hanging... now manually interrupt from the notebook toolbar (STOP button)\")\n",
    "    time.sleep(1000)  # Simulate long-running hang\n",
    "    return {\"step2\": \"done\"}\n",
    "\n",
    "def step_3(state: State) -> State:\n",
    "    print(\"✅ Step 3 executed\")\n",
    "    return {\"done\": True}"
   ]
  },
  {
   "cell_type": "code",
   "execution_count": 5,
   "id": "e636b356",
   "metadata": {},
   "outputs": [],
   "source": [
    "# 3. Build the graph\n",
    "builder = StateGraph(State)\n",
    "builder.add_node(\"step_1\", step_1)\n",
    "builder.add_node(\"step_2\", step_2)\n",
    "builder.add_node(\"step_3\", step_3)\n",
    "\n",
    "builder.set_entry_point(\"step_1\")\n",
    "builder.add_edge(\"step_1\", \"step_2\")\n",
    "builder.add_edge(\"step_2\", \"step_3\")\n",
    "builder.add_edge(\"step_3\", END)\n",
    "\n",
    "checkpointer = InMemorySaver()\n",
    "graph = builder.compile(checkpointer=checkpointer)"
   ]
  },
  {
   "cell_type": "code",
   "execution_count": null,
   "id": "c6ab7e03",
   "metadata": {},
   "outputs": [
    {
     "name": "stdout",
     "output_type": "stream",
     "text": [
      "▶️ Running graph: Please manually interrupt during Step 2...\n",
      "✅ Step 1 executed\n",
      "⏳ Step 2 hanging... now manually interrupt from the notebook toolbar (STOP button)\n"
     ]
    }
   ],
   "source": [
    "try:\n",
    "    print(\"▶️ Running graph: Please manually interrupt during Step 2...\")\n",
    "    graph.invoke({\"input\": \"start\"}, config={\"configurable\": {\"thread_id\": 'thread-1'}})\n",
    "except KeyboardInterrupt:\n",
    "    print(\"❌ Kernel manually interrupted (crash simulated).\")"
   ]
  },
  {
   "cell_type": "code",
   "execution_count": null,
   "id": "0f993f27",
   "metadata": {},
   "outputs": [],
   "source": []
  }
 ],
 "metadata": {
  "kernelspec": {
   "display_name": "myvenv",
   "language": "python",
   "name": "python3"
  },
  "language_info": {
   "codemirror_mode": {
    "name": "ipython",
    "version": 3
   },
   "file_extension": ".py",
   "mimetype": "text/x-python",
   "name": "python",
   "nbconvert_exporter": "python",
   "pygments_lexer": "ipython3",
   "version": "3.13.5"
  }
 },
 "nbformat": 4,
 "nbformat_minor": 5
}
